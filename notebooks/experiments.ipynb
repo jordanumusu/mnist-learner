{
 "cells": [
  {
   "cell_type": "code",
   "execution_count": 25,
   "id": "64009306-f5e1-4033-8c5d-ace0e232d2a8",
   "metadata": {},
   "outputs": [
    {
     "data": {
      "text/plain": [
       "Dataset MNIST\n",
       "    Number of datapoints: 60000\n",
       "    Root location: ../data\n",
       "    Split: Train\n",
       "    StandardTransform\n",
       "Transform: Compose(\n",
       "               ToTensor()\n",
       "           )"
      ]
     },
     "execution_count": 25,
     "metadata": {},
     "output_type": "execute_result"
    }
   ],
   "source": [
    "import torchvision.datasets as datasets\n",
    "import torchvision.transforms as transforms\n",
    "import matplotlib.pyplot as plt\n",
    "from PIL import Image\n",
    "from torch.utils.data import Subset\n",
    "\n",
    "\n",
    "transform = transforms.Compose([transforms.ToTensor()])\n",
    "train_set = datasets.MNIST('../data', train=True, transform=transform, download=True)\n",
    "test_set = datasets.MNIST('../data', train=False, transform=transform, download=True)\n",
    "train_set"
   ]
  },
  {
   "cell_type": "code",
   "execution_count": 54,
   "id": "a08eb896-d6b1-4340-8934-b4b3b2639440",
   "metadata": {},
   "outputs": [],
   "source": [
    "all_labels = train_set.targets\n",
    "indices, = ((all_labels == 3) | (all_labels == 7)).nonzero(as_tuple=True)\n",
    "x = Subset(train_set, indices)\n"
   ]
  },
  {
   "cell_type": "code",
   "execution_count": 59,
   "id": "b545c8a6-7a6a-49c5-b368-84dac787bf6b",
   "metadata": {},
   "outputs": [
    {
     "data": {
      "image/png": "[encoded data removed]",
      "text/plain": [
       "<Figure size 640x480 with 1 Axes>"
      ]
     },
     "metadata": {},
     "output_type": "display_data"
    }
   ],
   "source": [
    "img, label = x[7]\n",
    "plt.imshow(img.squeeze(), cmap='gray')\n",
    "plt.title(f'Label: {label}')\n",
    "plt.show()"
   ]
  },
  {
   "cell_type": "code",
   "execution_count": null,
   "id": "908ad3b6-1bd5-46e2-a434-db8b9773af89",
   "metadata": {},
   "outputs": [],
   "source": []
  }
 ],
 "metadata": {
  "kernelspec": {
   "display_name": "Python (mnist-learner)",
   "language": "python",
   "name": "mnist-learner"
  },
  "language_info": {
   "codemirror_mode": {
    "name": "ipython",
    "version": 3
   },
   "file_extension": ".py",
   "mimetype": "text/x-python",
   "name": "python",
   "nbconvert_exporter": "python",
   "pygments_lexer": "ipython3",
   "version": "3.10.18"
  }
 },
 "nbformat": 4,
 "nbformat_minor": 5
}
